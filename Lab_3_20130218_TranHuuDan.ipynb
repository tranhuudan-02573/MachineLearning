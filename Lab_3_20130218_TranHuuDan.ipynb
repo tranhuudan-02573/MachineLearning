{
  "nbformat": 4,
  "nbformat_minor": 0,
  "metadata": {
    "colab": {
      "provenance": [],
      "include_colab_link": true
    },
    "kernelspec": {
      "name": "python3",
      "display_name": "Python 3"
    },
    "language_info": {
      "name": "python"
    }
  },
  "cells": [
    {
      "cell_type": "markdown",
      "metadata": {
        "id": "view-in-github",
        "colab_type": "text"
      },
      "source": [
        "<a href=\"https://colab.research.google.com/github/tranhuudan-02573/MachineLearning/blob/main/Lab_3_20130218_TranHuuDan.ipynb\" target=\"_parent\"><img src=\"https://colab.research.google.com/assets/colab-badge.svg\" alt=\"Open In Colab\"/></a>"
      ]
    },
    {
      "cell_type": "markdown",
      "source": [
        "**Deadline: 23:59, 04/03/2023**"
      ],
      "metadata": {
        "id": "KbeXZnmRRqin"
      }
    },
    {
      "cell_type": "markdown",
      "source": [
        "# Task 1. \n",
        "The main aim of this task is to get familiar with the tasks of preprocessing data using Scikit-learn – a Python-based Machine Learning framework and Linear Regression.\n"
      ],
      "metadata": {
        "id": "LMzehe0sy5wr"
      }
    },
    {
      "cell_type": "markdown",
      "source": [
        "For given 2 datasets (preprocessing_weather.csv, preprocessing_salary_dummy.csv), \n",
        "*   Identify issues with these datasets\n",
        "*   Then, apply preprocessing techniques to the datasets\n"
      ],
      "metadata": {
        "id": "Pck4yZk8KmyU"
      }
    },
    {
      "cell_type": "markdown",
      "source": [
        "#Task 1.1. Dataset preprocessing_weather.csv"
      ],
      "metadata": {
        "id": "H4nJmxp9zGX4"
      }
    },
    {
      "cell_type": "markdown",
      "source": [
        "**Issues**:\n",
        "\n",
        "\n",
        "1.   List item\n",
        "2.   List item\n",
        "3.   List item\n",
        "4.   List item\n",
        "....\n",
        "\n"
      ],
      "metadata": {
        "id": "3_RXE803Sb_h"
      }
    },
    {
      "cell_type": "markdown",
      "source": [
        "**Preprocessing dataset**:"
      ],
      "metadata": {
        "id": "WIVGBnAnSo-Q"
      }
    },
    {
      "cell_type": "code",
      "source": [
        "#code\n",
        "\n",
        "\n",
        "import matplotlib.pyplot as plt\n",
        "import numpy as np\n",
        "import pandas as pd\n",
        "import sklearn as sk\n",
        "import numpy as np\n",
        "from sklearn.impute import SimpleImputer\n",
        "\n",
        "from google.colab import drive\n",
        "drive.mount('/content/gdrive')\n",
        "%cd '/content/gdrive/MyDrive/ML/lab3'"
      ],
      "metadata": {
        "id": "hp-7wLFgSvTk",
        "colab": {
          "base_uri": "https://localhost:8080/"
        },
        "outputId": "4779afc2-3556-4515-bb6d-e810cf18ae24"
      },
      "execution_count": 2,
      "outputs": [
        {
          "output_type": "stream",
          "name": "stdout",
          "text": [
            "Mounted at /content/gdrive\n",
            "/content/gdrive/MyDrive/ML/lab3\n"
          ]
        }
      ]
    },
    {
      "cell_type": "markdown",
      "source": [
        "#Task 1.2. Dataset preprocessing_salary_dummy.csv"
      ],
      "metadata": {
        "id": "GbFjDSGVS3Gg"
      }
    },
    {
      "cell_type": "markdown",
      "source": [
        "**Issues**:\n",
        "\n",
        "\n",
        "1.   List item\n",
        "2.   List item\n",
        "3.   List item\n",
        "4.   List item\n",
        "....\n",
        "\n"
      ],
      "metadata": {
        "id": "0lGRgoArS_5u"
      }
    },
    {
      "cell_type": "markdown",
      "source": [
        "**Preprocessing dataset**:"
      ],
      "metadata": {
        "id": "EPlB4J5fTCUD"
      }
    },
    {
      "cell_type": "code",
      "source": [
        "#code\n",
        "\n",
        "dataSet = pd.read_csv(\"preprocessing_salary_dummy.csv\")\n",
        "\n",
        "\n",
        "X=dataSet.iloc[:,2:5].values\n",
        "simple = SimpleImputer(missing_values=np.nan,strategy='most_frequent')\n",
        "simple.fit(X)\n",
        "print(simple.transform(X))\n",
        "\n",
        "# dummies=pd.get_dummies(dataSet.Country)\n",
        "# pd.concat([dataSet, dummies], axis='columns')"
      ],
      "metadata": {
        "id": "Q9skC5VxTDCd",
        "colab": {
          "base_uri": "https://localhost:8080/"
        },
        "outputId": "0ec81ae1-34b6-43a1-fea3-64e1a664127c"
      },
      "execution_count": null,
      "outputs": [
        {
          "output_type": "stream",
          "name": "stdout",
          "text": [
            "[[44.0 72000.0 'No']\n",
            " [27.0 48000.0 'Yes']\n",
            " [30.0 54000.0 'No']\n",
            " [38.0 61000.0 'No']\n",
            " [40.0 48000.0 'Yes']\n",
            " [35.0 58000.0 'Yes']\n",
            " [27.0 52000.0 'No']\n",
            " [48.0 79000.0 'Yes']\n",
            " [50.0 83000.0 'No']\n",
            " [37.0 67000.0 'Yes']]\n"
          ]
        }
      ]
    },
    {
      "cell_type": "markdown",
      "source": [
        "# **Task 2**. Simple Linear Regression in Scikit-Learn\n",
        "---\n",
        "# **Usage:**\n",
        "> **Step 1**: build a model\n",
        "![image.png](data:image/png;base64,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)\n",
        "\n",
        "> **Step 2**: test the model\n",
        "\n",
        "*   With test set:\n",
        "`y_pred = regressor.predict(X_test)`\n",
        "\n",
        "*   With a single value (\"predict\" method always expects a 2D array as the format of its inputs)\n",
        "`regressor.predict([[12]])`\n",
        "\n",
        "> **Step 3**: \n",
        "*   get w0, w1 , w2, …,\n",
        "-- W0: `regressor.intercept_`\n",
        "-- w1, w2, …: `regressor.coef_`\n",
        "*   R^2 score: sum of squared r(i)\n",
        "`r(i) = y(i) - f(x(i))`: residual of ith instance\n",
        "\n",
        "\n",
        "> **Metrics**:\n",
        "*   metrics.explained_variance_score(y_test, y_pred)\n",
        "*   metrics.mean_absolute_error(y_ test, y_pred) \n",
        "*   metrics.mean_squared_error(y_ test, y_pred[, ...])\n",
        "*   metrics.mean_squared_log_error(y_ test, y_pred)\n",
        "*   metrics.median_absolute_error(y_ test, y_pred)\n",
        "*   metrics.r2_score(y_ test, y_pred[, ...])\n"
      ],
      "metadata": {
        "id": "4_r5ZV4_zL20"
      }
    },
    {
      "cell_type": "markdown",
      "source": [
        "\n",
        "\n",
        "---\n",
        "\n"
      ],
      "metadata": {
        "id": "oSy2WoJiSHQM"
      }
    },
    {
      "cell_type": "markdown",
      "source": [
        "# Tasks\n",
        "The main aim of these tasks is to get familiar with Linear Regression problems. Apply LinearRegression to the following datasets. Note the error obtained and coefficients\n",
        "*   **dataset1.csv** - a synthetic dataset including 5 points (1-dimensional data) with one target\n",
        "*   **dataset2.csv** - a synthetic dataset including 1000 points (3-dimensional data) with one target variable. The variables are named x1, x2, x3, y. y is the variable to be regressed. Split the dataset into training set and test set (70% for training set and 30% for test set). \n"
      ],
      "metadata": {
        "id": "oJwsJwj03iD_"
      }
    },
    {
      "cell_type": "markdown",
      "source": [
        "# Task 2.1. dataset1.csv\n"
      ],
      "metadata": {
        "id": "XXmlzCILTkdG"
      }
    },
    {
      "cell_type": "code",
      "source": [
        "#code\n",
        "from sklearn.linear_model import LinearRegression\n",
        "from sklearn.model_selection import train_test_split\n",
        "from sklearn import metrics\n",
        "dataSet1 = pd.read_csv(\"dataset1.csv\")\n",
        "\n",
        "x1= dataSet1.iloc[:,0]\n",
        "y1= dataSet1.iloc[:,1]\n",
        "\n",
        "x=np.array(x1).reshape(-1,1)\n",
        "y=np.array(y1).reshape(-1,1)\n",
        "\n",
        "res = LinearRegression();\n",
        "\n",
        "res.fit(x,y)\n",
        "\n",
        "print(\"W0=\"+str(res.intercept_))\n",
        "print(\"W1=\"+str(res.coef_))\n",
        "fx = \"f(x) = \"+str(float(res.intercept_))\n",
        "for x in range(len(res.coef_)):\n",
        "  fx += \" + x\"+str(x)+\" * \"+str(float(res.coef_[x]))\n",
        "print(\"phuong trinh hoi quy tuyen tinh la: \"+fx)\n",
        "\n",
        "\n",
        "\n",
        "\n",
        "\n",
        "\n"
      ],
      "metadata": {
        "id": "3KA4BgbB3tbs",
        "colab": {
          "base_uri": "https://localhost:8080/"
        },
        "outputId": "ad3b4851-945e-40f1-8edf-623f70254a6c"
      },
      "execution_count": 7,
      "outputs": [
        {
          "output_type": "stream",
          "name": "stdout",
          "text": [
            "W0=[0.4]\n",
            "W1=[[0.8]]\n",
            "phuong trinh hoi quy tuyen tinh la: f(x) = 0.3999999999999999 + x0 * 0.7999999999999999\n"
          ]
        }
      ]
    },
    {
      "cell_type": "markdown",
      "source": [
        "# Task 2.2. dataset2.csv\n"
      ],
      "metadata": {
        "id": "swMtgNZUUQlv"
      }
    },
    {
      "cell_type": "code",
      "source": [
        "#code\n",
        "dataset2 = pd.read_csv(\"dataset2.csv\")\n",
        "#xoa cot id\n",
        "dataset2.drop(['id'], axis='columns', inplace=True)\n",
        "print(dataset2.head(len(dataset2)))\n",
        "#split\n",
        "from sklearn.model_selection import train_test_split\n",
        "X_train, X_test, y_train, y_test = train_test_split(dataset2[['x1','x2', 'x3']], dataset2[['y']], test_size=0.3, random_state=1)\n",
        "regressor2 = LinearRegression()\n",
        "regressor2.fit(X_train, y_train)\n",
        "y_pred = regressor2.predict(X_test)\n",
        "print(regressor2.intercept_)\n",
        "print(regressor2.coef_)\n",
        "print(metrics.explained_variance_score(y_test, y_pred))"
      ],
      "metadata": {
        "id": "B8HMqi34USt_",
        "colab": {
          "base_uri": "https://localhost:8080/"
        },
        "outputId": "380dfc72-b864-4462-e603-908c8e9a9589"
      },
      "execution_count": 9,
      "outputs": [
        {
          "output_type": "stream",
          "name": "stdout",
          "text": [
            "          x1       x2       x3         y\n",
            "0    2.41710  0.83595  0.72469  18.21900\n",
            "1    1.98150 -1.01800 -1.06400   0.55271\n",
            "2    1.82850  0.49281 -0.89035   7.00510\n",
            "3    1.50480 -1.74070 -1.72290  -7.06310\n",
            "4    0.27489 -0.31811 -0.56168   0.74380\n",
            "..       ...      ...      ...       ...\n",
            "594  1.64550  0.63758 -0.75519   7.71100\n",
            "595 -1.16320  0.17321 -2.23150  -9.95440\n",
            "596 -1.61920 -0.57279 -2.26420 -14.47000\n",
            "597 -0.34407  1.86730 -2.22070  -0.66676\n",
            "598 -0.12172 -0.99826 -2.14240 -11.07000\n",
            "\n",
            "[599 rows x 4 columns]\n",
            "[4.00001817]\n",
            "[[2.99999344 3.99999127 4.99999257]]\n",
            "0.9999999994118407\n"
          ]
        }
      ]
    },
    {
      "cell_type": "markdown",
      "source": [
        "# Task 2.3. Apply LinearRegression to the following dataset:\n",
        "*   Red wine quality: https://archive.ics.uci.edu/ml/machine-learning-databases/wine-quality/winequality-red.csv . The dataset includes info about the chemical properties of different types of wine and how they relate to overall quality. \n",
        "\n"
      ],
      "metadata": {
        "id": "yt-_Q4Ak4sFL"
      }
    },
    {
      "cell_type": "code",
      "source": [
        "#code"
      ],
      "metadata": {
        "id": "zW6-olSN5NFV",
        "colab": {
          "base_uri": "https://localhost:8080/"
        },
        "outputId": "ef87b873-0077-43b4-880e-868b3b998df2"
      },
      "execution_count": null,
      "outputs": [
        {
          "output_type": "stream",
          "name": "stdout",
          "text": [
            "[[ 4.5800e+02 -2.1466e+00  1.1776e-01  1.2795e+00  4.4286e+00]\n",
            " [ 4.7800e+02 -1.4288e+00  1.9977e+00 -1.3977e+00  7.1550e-01]\n",
            " [ 1.0800e+02  1.6271e+00  2.0048e+00  1.4693e+00  2.4247e+01]\n",
            " ...\n",
            " [ 3.6000e+02  2.0330e+00 -1.3322e+00 -1.4258e+00 -2.3587e+00]\n",
            " [ 1.9300e+02 -1.1491e+00 -6.6180e-01  2.2316e+00  9.0638e+00]\n",
            " [ 5.6000e+02 -6.1226e-01 -1.8112e-01 -2.2078e+00 -9.6002e+00]]\n",
            "[[ 1.2800e+02 -6.1720e-01  1.9990e+00 -2.2809e+00 -1.2602e+00]\n",
            " [ 4.9000e+01 -2.2561e+00 -9.1761e-01 -1.6979e+00 -1.4928e+01]\n",
            " [ 4.8800e+02  2.0856e+00  5.8577e-01 -8.9679e-01  8.1161e+00]\n",
            " [ 4.1000e+02 -2.1485e+00 -2.1576e+00 -1.3192e+00 -1.7672e+01]\n",
            " [ 2.2600e+02 -1.7144e+00  2.4259e+00  1.8567e+00  1.7844e+01]\n",
            " [ 3.4000e+02  4.2162e-01  7.6543e-01  1.7096e+00  1.6874e+01]\n",
            " [ 2.4000e+02 -1.0409e+00  2.4844e+00 -8.3038e-01  6.6632e+00]\n",
            " [ 5.2400e+02 -1.0856e+00  1.3090e-01 -1.9275e-01  3.0320e-01]\n",
            " [ 5.9400e+02  1.7926e-01 -2.7717e-01  7.8804e-01  7.3693e+00]\n",
            " [ 4.1300e+02 -2.1165e+00 -2.1119e+00  7.9725e-01 -6.8108e+00]\n",
            " [ 4.3800e+02 -3.9481e-01 -2.1194e+00 -6.1503e-01 -8.7372e+00]\n",
            " [ 3.6200e+02  7.4759e-02  3.9930e-01 -2.5017e-01  4.5706e+00]\n",
            " [ 5.7800e+02 -5.5958e-01  1.5530e+00  1.1468e+00  1.4267e+01]\n",
            " [ 5.9800e+02 -3.4407e-01  1.8673e+00 -2.2207e+00 -6.6676e-01]\n",
            " [ 3.7000e+02  2.2642e-01 -2.4075e+00 -1.9873e+00 -1.4887e+01]\n",
            " [ 3.3400e+02  1.1643e+00  1.0895e+00  9.3666e-01  1.6534e+01]\n",
            " [ 2.0100e+02 -2.3137e+00  1.4492e+00  3.2229e-01  4.4673e+00]\n",
            " [ 3.0000e+02  1.1438e+00  4.6691e-01 -1.9555e+00 -4.7837e-01]\n",
            " [ 2.9900e+02 -2.0752e+00 -1.6534e+00  2.1585e+00  1.9533e+00]\n",
            " [ 3.0700e+02 -1.4814e-01 -8.7291e-01  2.4311e+00  1.2219e+01]\n",
            " [ 2.3600e+02 -1.7382e+00 -6.1910e-01 -8.4093e-01 -7.8956e+00]\n",
            " [ 9.3000e+01 -1.7850e+00 -1.8229e+00  1.6112e+00 -5.9106e-01]\n",
            " [ 2.2300e+02  2.2269e+00 -2.0934e+00 -2.2907e+00 -9.1467e+00]\n",
            " [ 1.9700e+02 -2.0481e+00 -2.4926e+00  1.6437e+00 -3.8962e+00]\n",
            " [ 2.3000e+02  1.5590e-01  2.2371e+00 -1.4469e-01  1.2692e+01]\n",
            " [ 5.0200e+02  1.2258e+00  1.1992e+00  9.2899e-01  1.7119e+01]\n",
            " [ 1.5000e+01 -1.7354e+00 -5.4986e-01  3.2925e-01 -1.7594e+00]\n",
            " [ 5.3000e+01 -1.0542e+00  8.6997e-01 -1.5750e+00 -3.5578e+00]\n",
            " [ 3.8600e+02 -5.0780e-01  1.4678e+00  1.3948e+00  1.5322e+01]\n",
            " [ 5.4100e+02 -1.5864e+00  1.0462e+00  3.8774e-01  5.3642e+00]\n",
            " [ 4.8600e+02 -2.0759e+00  1.9505e-01 -1.3663e+00 -8.2788e+00]\n",
            " [ 1.4300e+02  2.1873e+00 -2.0403e+00 -1.5631e+00 -5.4150e+00]\n",
            " [ 2.3100e+02  1.9428e+00 -5.8861e-01  2.0523e+00  1.7736e+01]\n",
            " [ 5.6900e+02  1.3997e+00  1.0861e-01 -1.0370e+00  3.4484e+00]\n",
            " [ 2.0000e+00  1.9815e+00 -1.0180e+00 -1.0640e+00  5.5271e-01]\n",
            " [ 4.3400e+02 -1.3020e+00  1.5237e+00 -7.6316e-01  2.3731e+00]\n",
            " [ 3.2000e+02  1.9745e+00  2.5430e-01  7.5525e-01  1.4717e+01]\n",
            " [ 5.6400e+02  2.1399e+00 -2.4754e-01 -9.0214e-01  4.9189e+00]\n",
            " [ 3.9100e+02  2.3821e-01  1.0421e+00 -1.2868e+00  2.4489e+00]\n",
            " [ 2.4700e+02 -1.8226e+00  2.2659e+00  1.6914e+00  1.6053e+01]\n",
            " [ 3.7700e+02  1.4171e+00 -1.2756e+00 -1.4721e+00 -4.2116e+00]\n",
            " [ 9.0000e+00  1.8198e+00  5.6926e-02  8.7729e-01  1.4074e+01]\n",
            " [ 1.1900e+02 -1.5255e+00 -2.4070e+00  5.1537e-01 -7.6277e+00]\n",
            " [ 1.8000e+01  2.2956e+00 -9.8178e-01 -1.7078e+00 -1.5792e+00]\n",
            " [ 3.0200e+02  7.5624e-01  1.3618e+00 -1.7697e+00  2.8675e+00]\n",
            " [ 2.2000e+01  5.2677e-01 -1.1999e+00  1.5368e+00  8.4647e+00]\n",
            " [ 4.5700e+02 -2.3884e-01  1.0965e+00 -1.3333e+00  1.0031e+00]\n",
            " [ 4.7600e+02  2.0755e+00 -1.1400e+00  6.0578e-01  8.6954e+00]\n",
            " [ 3.8000e+02  1.3902e+00 -1.3465e+00 -1.1188e+00 -2.8093e+00]\n",
            " [ 1.8800e+02 -1.1090e+00  2.2546e+00 -1.0605e+00  4.3893e+00]\n",
            " [ 4.2900e+02  7.0195e-01 -2.4551e+00  2.0891e+00  6.7308e+00]\n",
            " [ 1.6300e+02  2.2180e+00 -2.3140e+00 -6.7135e-01 -1.9586e+00]\n",
            " [ 2.1100e+02  6.2510e-01  2.3347e+00  6.1720e-01  1.8300e+01]\n",
            " [ 2.4400e+02 -4.3863e-01 -4.2582e-01  2.2975e+00  1.2468e+01]\n",
            " [ 1.8700e+02  6.5960e-01 -1.7938e+00  3.8352e-01  7.2129e-01]\n",
            " [ 4.5400e+02 -2.0528e+00 -1.8938e+00 -2.4854e+00 -2.2161e+01]\n",
            " [ 5.8000e+02 -1.8357e+00 -1.2502e+00  1.3118e+00  5.1401e-02]\n",
            " [ 3.2600e+02 -2.4546e+00  1.9976e+00  7.4636e-01  8.3585e+00]\n",
            " [ 1.7300e+02  9.2397e-01 -4.2826e-01  7.9824e-01  9.0501e+00]\n",
            " [ 3.4600e+02  2.3474e+00 -1.3298e+00  1.4387e+00  1.2916e+01]\n",
            " [ 2.1400e+02 -1.4292e+00 -1.3723e+00 -1.2547e-01 -6.4040e+00]\n",
            " [ 4.8100e+02 -1.5278e+00 -6.7382e-01  1.5121e+00  4.2817e+00]\n",
            " [ 1.8200e+02  7.5173e-01 -9.0486e-01  4.8233e-02  2.8769e+00]\n",
            " [ 4.8200e+02  1.2344e+00  4.9295e-01  8.4822e-01  1.3916e+01]\n",
            " [ 5.3900e+02  9.9827e-01 -6.4418e-01 -2.3184e+00 -7.1737e+00]\n",
            " [ 3.8000e+01  1.6199e-01 -2.6999e-01 -2.0539e+00 -6.8635e+00]\n",
            " [ 1.0400e+02  1.4894e+00 -2.1930e+00 -2.3440e+00 -1.2023e+01]\n",
            " [ 3.5500e+02 -1.0191e+00  7.4295e-01  2.5819e-01  5.2053e+00]\n",
            " [ 3.5000e+01 -1.9790e+00 -2.4281e+00 -7.9949e-01 -1.5647e+01]\n",
            " [ 1.7900e+02  2.0470e+00 -9.5218e-01 -2.3362e+00 -5.3490e+00]\n",
            " [ 6.5000e+01  3.3890e-01  1.8792e+00  2.0485e+00  2.2776e+01]\n",
            " [ 8.6000e+01  1.1321e+00  5.7517e-01 -1.1295e+00  4.0496e+00]\n",
            " [ 3.8500e+02  1.7541e-01 -6.2208e-01  7.8461e-01  5.9609e+00]\n",
            " [ 3.8100e+02  1.1385e+00  1.8661e-01 -1.3543e+00  1.3904e+00]\n",
            " [ 4.7700e+02  2.0049e+00 -1.3421e+00 -5.0479e-02  4.3938e+00]\n",
            " [ 3.4400e+02  9.2972e-01 -5.7136e-01 -1.3846e+00 -2.4194e+00]\n",
            " [ 2.8300e+02  1.6120e+00  1.1181e+00 -4.3802e-01  1.1118e+01]\n",
            " [ 1.3000e+01 -6.0604e-01 -4.3190e-01 -1.4653e+00 -6.8720e+00]\n",
            " [ 3.7300e+02 -2.2730e+00  1.2450e+00  9.5753e-01  6.9488e+00]\n",
            " [ 2.6700e+02 -2.4277e+00 -1.6930e+00 -1.4652e+00 -1.7381e+01]\n",
            " [ 5.1000e+01  7.0816e-01  6.4732e-01 -5.0725e-01  6.1775e+00]\n",
            " [ 3.2000e+01 -5.5086e-01 -1.8807e-01 -1.7759e+00 -7.2842e+00]\n",
            " [ 7.9000e+01  2.3933e+00 -1.6596e+00  1.1874e+00  1.0479e+01]\n",
            " [ 6.7000e+01 -4.4431e-02 -1.6360e+00  1.3789e+00  4.2171e+00]\n",
            " [ 5.2300e+02 -2.4820e+00 -8.3801e-01  1.5461e+00  9.3255e-01]\n",
            " [ 4.1600e+02 -1.7091e+00  5.6939e-01  3.5236e-01  2.9121e+00]\n",
            " [ 2.5300e+02 -1.7509e+00 -7.2409e-01  1.4207e-01 -3.4388e+00]\n",
            " [ 5.5000e+02  8.4544e-01 -2.3849e+00  1.6038e+00  5.0157e+00]\n",
            " [ 4.1800e+02  1.0092e+00 -1.4999e+00 -1.1763e+00 -4.8533e+00]\n",
            " [ 5.2600e+02  4.6037e-01  2.1450e-01 -1.1202e-01  5.6790e+00]\n",
            " [ 3.3300e+02 -1.2092e+00 -3.4203e-01 -4.2501e-01 -3.1207e+00]\n",
            " [ 4.3600e+02 -1.2519e+00  1.3991e+00  1.0417e+00  1.1049e+01]\n",
            " [ 1.6000e+01  6.5500e-01 -1.2758e-01 -1.1283e+00 -1.8699e-01]\n",
            " [ 1.2300e+02 -2.2382e+00 -1.2816e+00 -1.3456e+00 -1.4569e+01]\n",
            " [ 4.6000e+01  8.6168e-01  2.0271e+00 -8.3148e-01  1.0536e+01]\n",
            " [ 7.0000e+00 -1.8644e+00 -1.3549e+00  1.9388e+00  2.6815e+00]\n",
            " [ 1.6600e+02  2.1472e+00  1.8120e+00  1.0830e+00  2.3105e+01]\n",
            " [ 1.5800e+02  7.0553e-01 -1.4086e+00 -8.9550e-01 -3.9955e+00]\n",
            " [ 2.6200e+02  1.2612e+00  1.7425e+00  8.4748e-01  1.8991e+01]\n",
            " [ 7.6000e+01  1.2829e+00  1.8988e+00  7.2790e-01  1.9083e+01]\n",
            " [ 1.1000e+01  1.7008e+00 -7.6945e-01  2.2499e+00  1.7274e+01]\n",
            " [ 5.8600e+02  1.7895e+00  5.7336e-01 -8.4675e-01  7.4280e+00]\n",
            " [ 5.5700e+02 -2.2094e+00  5.7603e-01  2.3507e+00  1.1429e+01]\n",
            " [ 2.8600e+02 -2.3593e+00  1.7174e+00 -5.7976e-01  8.9280e-01]\n",
            " [ 4.8400e+02  4.1629e-01  1.9728e+00  2.2224e+00  2.4252e+01]\n",
            " [ 5.9000e+02 -8.0277e-01 -6.1890e-01 -1.7626e+00 -9.6970e+00]\n",
            " [ 4.2300e+02 -6.5180e-03  2.8524e-01 -9.2650e-01  4.8890e-01]\n",
            " [ 2.0300e+02  1.1170e-01  1.6627e-01 -9.5010e-03  4.9527e+00]\n",
            " [ 2.9400e+02  1.9281e+00 -3.2508e-01 -2.0659e-01  7.4510e+00]\n",
            " [ 5.9100e+02 -1.1366e+00 -1.3562e+00 -9.2504e-01 -9.4597e+00]\n",
            " [ 3.0900e+02 -1.9299e+00 -1.0229e+00 -7.7626e-01 -9.7625e+00]\n",
            " [ 4.3700e+02 -5.6468e-01  3.3675e-01  4.5471e-01  5.9265e+00]\n",
            " [ 1.9400e+02 -4.9600e-01  1.4742e+00  7.5418e-01  1.2180e+01]\n",
            " [ 5.2500e+02  6.9300e-01 -1.2668e+00  4.3571e-01  3.1904e+00]\n",
            " [ 2.8400e+02 -7.5883e-01  3.7574e-01  2.1235e+00  1.3844e+01]\n",
            " [ 5.6000e+01  4.7564e-01  8.1665e-02  1.8231e+00  1.4869e+01]\n",
            " [ 9.1000e+01 -2.1179e+00  1.8225e+00  2.1837e-01  6.0280e+00]\n",
            " [ 3.9000e+02 -3.0398e-01  1.5893e+00 -5.3525e-01  6.7691e+00]\n",
            " [ 3.9200e+02 -5.2432e-01 -2.2840e+00 -1.0919e+00 -1.2168e+01]\n",
            " [ 5.2100e+02 -1.5507e+00  2.1353e+00  2.4819e+00  2.0299e+01]\n",
            " [ 3.8300e+02  8.2308e-01 -3.2979e-01  9.4710e-01  9.8856e+00]\n",
            " [ 5.3700e+02 -1.1303e+00 -2.0081e+00  1.2296e+00 -1.2752e+00]\n",
            " [ 5.7300e+02 -1.1919e-01  1.6287e+00 -1.1684e+00  4.3149e+00]\n",
            " [ 4.9500e+02  1.4909e+00  1.3974e+00 -1.2706e+00  7.7089e+00]\n",
            " [ 3.3900e+02 -8.1428e-01  1.9673e+00  1.3195e+00  1.6024e+01]\n",
            " [ 4.3900e+02  7.0039e-01 -1.2419e+00 -5.3087e-01 -1.5208e+00]\n",
            " [ 2.5000e+02 -2.2100e-03 -2.2996e+00 -1.6932e+00 -1.3671e+01]\n",
            " [ 6.3000e+01 -6.6088e-01  1.8054e+00 -8.0550e-03  9.1985e+00]\n",
            " [ 4.0200e+02  2.4631e+00 -4.7787e-01  1.3316e+00  1.6136e+01]\n",
            " [ 2.3200e+02 -1.1817e+00  9.6454e-01 -8.6010e-01  1.2656e-02]\n",
            " [ 2.4300e+02 -1.0963e+00  8.2321e-01  3.8250e-01  5.9163e+00]\n",
            " [ 3.9800e+02 -1.2457e+00 -1.1227e+00 -2.3422e+00 -1.5939e+01]\n",
            " [ 1.3300e+02  1.0834e+00 -1.9558e-01 -1.2240e+00  3.4794e-01]\n",
            " [ 5.5400e+02 -5.9652e-01 -1.9687e+00  2.5270e-01 -4.4007e+00]\n",
            " [ 2.7200e+02  1.4601e+00 -9.2651e-01 -1.5343e+00 -2.9971e+00]\n",
            " [ 2.4100e+02  6.1152e-01 -1.0934e+00  6.6416e-01  4.7816e+00]\n",
            " [ 2.3400e+02  1.6983e+00  1.3763e+00 -2.4128e+00  2.5362e+00]\n",
            " [ 4.7900e+02  2.3531e-01  2.0435e+00 -1.7793e+00  3.9832e+00]\n",
            " [ 1.7100e+02  5.7911e-02 -8.3484e-01 -2.2846e+00 -1.0588e+01]\n",
            " [ 4.0400e+02 -2.0389e+00  1.2866e+00  6.2993e-01  6.1793e+00]\n",
            " [ 9.7000e+01  7.5020e-01 -1.4996e+00  1.4413e+00  7.4584e+00]\n",
            " [ 2.4600e+02  1.4070e+00  2.2456e+00 -1.7471e+00  8.4678e+00]\n",
            " [ 5.2000e+02 -6.2912e-01 -2.1658e+00 -2.1307e+00 -1.7204e+01]\n",
            " [ 1.9100e+02  6.5811e-01  1.6748e+00 -6.6949e-01  9.3260e+00]\n",
            " [ 9.0000e+01 -5.9503e-01  1.3848e+00  7.8306e-01  1.1670e+01]\n",
            " [ 2.6500e+02 -1.5456e+00  4.3296e-02 -5.3113e-01 -3.1192e+00]\n",
            " [ 2.0700e+02 -1.2249e+00 -2.4538e+00  1.7182e+00 -8.9933e-01]\n",
            " [ 2.4800e+02  2.0103e+00  1.1646e+00  1.1308e+00  2.0344e+01]\n",
            " [ 4.7000e+01  1.7806e+00  6.5276e-01  2.6839e-01  1.3295e+01]\n",
            " [ 2.6300e+02  1.6353e+00 -1.6982e+00 -1.0235e+00 -3.0044e+00]]\n"
          ]
        }
      ]
    },
    {
      "cell_type": "markdown",
      "source": [
        "# Task 2.4. Apply LinearRegression to the following dataset:\n",
        "*   Energy efficiency: https://archive.ics.uci.edu/ml/datasets/Energy+efficiency.\n",
        "\n",
        "\n"
      ],
      "metadata": {
        "id": "jGxa2efd5N97"
      }
    },
    {
      "cell_type": "code",
      "source": [
        "#code"
      ],
      "metadata": {
        "id": "bcO-jgg55XBr"
      },
      "execution_count": null,
      "outputs": []
    },
    {
      "cell_type": "markdown",
      "source": [
        "# Finally,\n",
        "Save a copy in your Github. Remember renaming the notebook."
      ],
      "metadata": {
        "id": "Ok7RGkea_b7n"
      }
    }
  ]
}